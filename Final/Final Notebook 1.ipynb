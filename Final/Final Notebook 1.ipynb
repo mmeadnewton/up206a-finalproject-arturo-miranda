{
 "cells": [
  {
   "cell_type": "markdown",
   "id": "substantial-cowboy",
   "metadata": {},
   "source": [
    "# Bus Access and Income in Los Angeles: Final Notebook 1\n",
    "**_Arturo Jacobo & Miranda Mead-Newton_**\n",
    "\n",
    "For our final research project, we are exploring bus access and income in Los Angeles County, and have made recommendations according to our findings. Bus riders in Los Angeles are some of the most low-income populations in the City and changes are coming to the bus network. We sought to examine whether these planned changes are going to improve bus network coverage for low income populations. We found that very little coverage changes are planned for the new NextGen bus network. We examine the areas of the City we believe deserve higher coverage.\n",
    "\n",
    "## Demographic Background\n",
    "In this notebook, we examine demographic information for the City and County of LA and examine the spatial relationship between race, income, and commute mode in Los Angeles."
   ]
  },
  {
   "cell_type": "code",
   "execution_count": null,
   "id": "specified-remark",
   "metadata": {},
   "outputs": [],
   "source": [
    "#importing libraries\n",
    "import geopandas as gpd\n",
    "import pandas as pd\n",
    "import matplotlib.pyplot as plt\n",
    "import contextily as ctx\n",
    "import urllib.request, json \n",
    "import plotly.express as px\n",
    "import plotly.graph_objects as go"
   ]
  },
  {
   "cell_type": "code",
   "execution_count": null,
   "id": "loving-monaco",
   "metadata": {},
   "outputs": [],
   "source": [
    "#import data from Census Reporter on income, race, and commute modes in LA County\n",
    "#race and income\n",
    "gdf = gpd.read_file('data/acs2015_2019.geojson')\n",
    "\n",
    "#commute mode\n",
    "tr = gpd.read_file('data/acs2019_5yr_B08134_14000US06037185320.geojson')"
   ]
  },
  {
   "cell_type": "markdown",
   "id": "cardiovascular-sierra",
   "metadata": {},
   "source": [
    "### Cleaning Data\n",
    "\n",
    "Using census data, we had to make sure to drop the summary row for both the demographic dataset and the commuter dataset. We used County information for the demographic dataset and City information for the commuter dataset. If we were to redo this section we would probably use commuter data for the County as well, but the data sets can still be somewhat compared as you will see under the mapping section. "
   ]
  },
  {
   "cell_type": "markdown",
   "id": "impressed-climb",
   "metadata": {},
   "source": [
    "Here we're cleaning up the demographic dataset. This dataset was already cleaned by Yoh in lab. We just grabbed the relevant columns."
   ]
  },
  {
   "cell_type": "code",
   "execution_count": null,
   "id": "primary-nebraska",
   "metadata": {},
   "outputs": [],
   "source": [
    "gdf = gdf[['FIPS',\n",
    "           'geometry',\n",
    "           '% Total Population: Black or African American Alone',\n",
    "           '% Total Population: White Alone',\n",
    "           '% Total Population: Hispanic or Latino',\n",
    "           'Median Household Income (In 2019 Inflation Adjusted Dollars)']]"
   ]
  },
  {
   "cell_type": "markdown",
   "id": "mexican-white",
   "metadata": {},
   "source": [
    "Here we're cleaning up the commuter data. And keeping the relavent columns. "
   ]
  },
  {
   "cell_type": "code",
   "execution_count": null,
   "id": "infinite-hormone",
   "metadata": {},
   "outputs": [],
   "source": [
    "tr=tr.drop([1004])"
   ]
  },
  {
   "cell_type": "code",
   "execution_count": null,
   "id": "sufficient-morocco",
   "metadata": {},
   "outputs": [],
   "source": [
    "columns_to_keep = ['geoid',\n",
    "                  'name',\n",
    "                  'B08134001',\n",
    "                  'B08134021',\n",
    "                  'B08134071',\n",
    "                  'geometry']"
   ]
  },
  {
   "cell_type": "code",
   "execution_count": null,
   "id": "encouraging-singer",
   "metadata": {},
   "outputs": [],
   "source": [
    "tr = tr[columns_to_keep]"
   ]
  },
  {
   "cell_type": "code",
   "execution_count": null,
   "id": "positive-nelson",
   "metadata": {},
   "outputs": [],
   "source": [
    "tr.columns = ['geoid',\n",
    " 'name',\n",
    " 'Total',\n",
    " 'Drove_Solo',\n",
    " 'Bus',\n",
    " 'geometry']"
   ]
  },
  {
   "cell_type": "code",
   "execution_count": null,
   "id": "incomplete-congress",
   "metadata": {},
   "outputs": [],
   "source": [
    "# create a new column and populate it with normalized data to get the percent of total value\n",
    "# we are creating new variables\n",
    "tr['Percent_D_Solo'] = tr['Drove_Solo']/tr['Total']*100\n",
    "tr['Percent_Bus']= tr['Bus']/tr['Total']*100"
   ]
  },
  {
   "cell_type": "markdown",
   "id": "domestic-floor",
   "metadata": {},
   "source": [
    "### Graphing Data"
   ]
  },
  {
   "cell_type": "markdown",
   "id": "canadian-favor",
   "metadata": {},
   "source": [
    "We began by graphing the datasets. "
   ]
  },
  {
   "cell_type": "markdown",
   "id": "recent-steam",
   "metadata": {},
   "source": [
    "#### Demographic info"
   ]
  },
  {
   "cell_type": "code",
   "execution_count": null,
   "id": "varying-relaxation",
   "metadata": {},
   "outputs": [],
   "source": [
    "indicators = ['% Total Population: Black or African American Alone',\n",
    "                   '% Total Population: White Alone',\n",
    "                   '% Total Population: Hispanic or Latino',\n",
    "                   'Median Household Income (In 2019 Inflation Adjusted Dollars)',]"
   ]
  },
  {
   "cell_type": "code",
   "execution_count": null,
   "id": "formal-midwest",
   "metadata": {},
   "outputs": [],
   "source": [
    "def get_histogram(column = '% Total Population: Black or African American Alone'):\n",
    "    series_to_plot=gdf[column]\n",
    "\n",
    "    plt.figure(figsize=(10,5))\n",
    "\n",
    "    plt.hist(series_to_plot,bins=50,color='skyblue')\n",
    "\n",
    "    plt.axvline(series_to_plot.mean(), color='k', linestyle='dashed', linewidth=1)\n",
    "    plt.axvline(series_to_plot.median(), color='r', linestyle='dashed', linewidth=1)\n",
    "    min_ylim, max_ylim = plt.ylim()\n",
    "    plt.text(series_to_plot.mean()*1.1, max_ylim*0.9, 'Mean: {:.2f}'.format(series_to_plot.mean()))\n",
    "    plt.text(series_to_plot.median()*1.1, max_ylim*0.8, 'Median: {:.2f}'.format(series_to_plot.median()),color='r')\n",
    "    plt.title(column + ' in Los Angeles County')"
   ]
  },
  {
   "cell_type": "code",
   "execution_count": null,
   "id": "demonstrated-diversity",
   "metadata": {},
   "outputs": [],
   "source": [
    "for indicator in indicators:\n",
    "    get_histogram(column=indicator)"
   ]
  },
  {
   "cell_type": "markdown",
   "id": "applicable-freedom",
   "metadata": {},
   "source": [
    "These histograms show the racial percentages for Census Tracts in LA County. "
   ]
  },
  {
   "cell_type": "markdown",
   "id": "frank-edinburgh",
   "metadata": {},
   "source": [
    "#### Commuter info"
   ]
  },
  {
   "cell_type": "code",
   "execution_count": null,
   "id": "reduced-trouble",
   "metadata": {},
   "outputs": [],
   "source": [
    "tr_1 = pd.DataFrame.from_records(tr)"
   ]
  },
  {
   "cell_type": "code",
   "execution_count": null,
   "id": "secondary-creation",
   "metadata": {},
   "outputs": [],
   "source": [
    "x0 = tr_1['Percent_D_Solo']\n",
    "x1 = tr_1['Percent_Bus']\n",
    "\n",
    "fig = go.Figure()\n",
    "fig.add_trace(go.Histogram(\n",
    "    x=x0,\n",
    "    histnorm='percent',\n",
    "    name='Percent of CT that drive to work', # name used in legend and hover labels\n",
    "    xbins=dict( # bins used for histogram\n",
    "        start=0,\n",
    "        end=100,\n",
    "        size=1\n",
    "    ),\n",
    "    marker_color='#EB89B5',\n",
    "    opacity=0.75\n",
    "))\n",
    "fig.add_trace(go.Histogram(\n",
    "    x=x1,\n",
    "    histnorm='percent',\n",
    "    name='Percent of CT that take the bus',\n",
    "    xbins=dict(\n",
    "        start=0,\n",
    "        end=100,\n",
    "        size=1\n",
    "    ),\n",
    "    marker_color='#330C73',\n",
    "    opacity=0.75\n",
    "))\n",
    "\n",
    "fig.update_layout(\n",
    "    title_text='Histogram of Census Tract Percentages by Commute Mode for the City of LA', # title of plot\n",
    "    xaxis_title_text='Percent', # xaxis label\n",
    "    yaxis_title_text='Count', # yaxis label\n",
    "    bargap=0.2, # gap between bars of adjacent location coordinates\n",
    "    bargroupgap=0.1 # gap between bars of the same location coordinates\n",
    ")"
   ]
  },
  {
   "cell_type": "markdown",
   "id": "varying-teddy",
   "metadata": {},
   "source": [
    "This graph shows the frequency of proportions of census tracts in LA that drive to work or take the bus. Unsurprisingly, we can see that it's much more common to drive to work. In almost all census tracts in LA, less than 20% of the population takes the bus to work."
   ]
  },
  {
   "cell_type": "markdown",
   "id": "handed-keyboard",
   "metadata": {},
   "source": [
    "### Mapping Data"
   ]
  },
  {
   "cell_type": "markdown",
   "id": "organizational-surrey",
   "metadata": {},
   "source": [
    "#### Demographic info"
   ]
  },
  {
   "cell_type": "code",
   "execution_count": null,
   "id": "cosmetic-threshold",
   "metadata": {},
   "outputs": [],
   "source": [
    "def get_map(column='% Total Population: Black or African American Alone'):\n",
    "    ax = gdf.plot(figsize=(10,10),\n",
    "                  column=column,\n",
    "                  legend=True)\n",
    "    ax.set_ylim(33.6,34.9)\n",
    "    ax.set_title(column, fontsize=14)\n",
    "    ax.axis('off');"
   ]
  },
  {
   "cell_type": "code",
   "execution_count": null,
   "id": "complex-canyon",
   "metadata": {},
   "outputs": [],
   "source": [
    "for indicator in indicators:\n",
    "    get_map(indicator) "
   ]
  },
  {
   "cell_type": "markdown",
   "id": "certified-wiring",
   "metadata": {},
   "source": [
    "The census tracts with the lowest incomes tend to be those with the highest Black/African American and/or Hispanic/Latino populations."
   ]
  },
  {
   "cell_type": "markdown",
   "id": "exterior-administrator",
   "metadata": {},
   "source": [
    "#### Commuter info"
   ]
  },
  {
   "cell_type": "code",
   "execution_count": null,
   "id": "central-serbia",
   "metadata": {},
   "outputs": [],
   "source": [
    "# create the 1x2 subplots\n",
    "fig, axs = plt.subplots(1, 2, figsize=(15, 12))\n",
    "\n",
    "# name each subplot\n",
    "ax1, ax2 = axs\n",
    "\n",
    "# regular count map on the left\n",
    "tr.plot(column='Percent_Bus', \n",
    "            cmap='RdYlGn_r', scheme='user_defined', \n",
    "         classification_kwds={'bins':[10,20,30,40,50,60,70,80,90,100]},\n",
    "            \n",
    "            edgecolor='white', \n",
    "            linewidth=0., \n",
    "            alpha=0.75, \n",
    "            ax=ax1, # this assigns the map to the subplot,\n",
    "            legend=True\n",
    "           )\n",
    "\n",
    "ax1.axis(\"off\")\n",
    "ax1.set_title(\"Percentage of Bus Riders by Census Tract\")\n",
    "\n",
    "# spatial lag map on the right\n",
    "tr.plot(column='Percent_D_Solo', \n",
    "            cmap='RdYlGn_r', \n",
    "            scheme='user_defined', \n",
    "         classification_kwds={'bins':[10,20,30,40,50,60,70,80,90,100]},\n",
    "            edgecolor='white', \n",
    "            linewidth=0., \n",
    "            alpha=0.75, \n",
    "            ax=ax2, # this assigns the map to the subplot\n",
    "            legend=True\n",
    "           )\n",
    "\n",
    "ax2.axis(\"off\")\n",
    "ax2.set_title(\"Percentage of Car Drivers by Census Tract\")"
   ]
  },
  {
   "cell_type": "markdown",
   "id": "bright-violence",
   "metadata": {},
   "source": [
    "Though we looked at City data for commuting and County demographic data, looking at the map displaying percent of bus riders per census tract and percent drivers per census, we can also see a correlation between the census tracts with the lowest median incomes, higher Black/African American and/or Hispanic/Latino populations, and higher percentages of bus riders. This is concentrated in Central and South Central LA. This fits with the our research that bus riders in LA tend to be lower income and non-White."
   ]
  }
 ],
 "metadata": {
  "kernelspec": {
   "display_name": "Python 3",
   "language": "python",
   "name": "python3"
  },
  "language_info": {
   "codemirror_mode": {
    "name": "ipython",
    "version": 3
   },
   "file_extension": ".py",
   "mimetype": "text/x-python",
   "name": "python",
   "nbconvert_exporter": "python",
   "pygments_lexer": "ipython3",
   "version": "3.8.5"
  },
  "toc": {
   "base_numbering": 1,
   "nav_menu": {},
   "number_sections": true,
   "sideBar": true,
   "skip_h1_title": false,
   "title_cell": "Table of Contents",
   "title_sidebar": "Contents",
   "toc_cell": false,
   "toc_position": {},
   "toc_section_display": true,
   "toc_window_display": false
  }
 },
 "nbformat": 4,
 "nbformat_minor": 5
}
