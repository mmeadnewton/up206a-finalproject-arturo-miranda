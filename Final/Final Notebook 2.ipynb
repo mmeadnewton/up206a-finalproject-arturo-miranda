{
 "cells": [
  {
   "cell_type": "markdown",
   "id": "radical-field",
   "metadata": {},
   "source": [
    "# Bus Access and Income in Los Angeles: Final Notebook 2\n",
    "**_Arturo Jacobo & Miranda Mead-Newton_**\n",
    "\n",
    "For our final research project, we are exploring bus access and income in Los Angeles County, and have made recommendations according to our findings. Bus riders in Los Angeles are some of the most low-income populations in the City and changes are coming to the bus network. We sought to examine whether these planned changes are going to improve bus network coverage for low income populations. We found that very little coverage changes are planned for the new NextGen bus network. We examine the areas of the City we believe deserve higher coverage.\n",
    "\n",
    "In this notebook, we dive into the changes in the new planned bus network: NextGen and develop a metric for bus access for the County. We then look at the spatial relationship between income and bus access through an interactive Kepler map. "
   ]
  },
  {
   "cell_type": "code",
   "execution_count": null,
   "id": "wired-kingdom",
   "metadata": {},
   "outputs": [],
   "source": [
    "# libraries\n",
    "import urllib.request, json \n",
    "import pandas as pd\n",
    "import geopandas as gpd\n",
    "import contextily as ctx\n",
    "import matplotlib.pyplot as plt\n",
    "import plotly.express as px\n",
    "import plotly.graph_objects as go\n",
    "from keplergl import KeplerGl\n",
    "from sodapy import Socrata\n",
    "\n",
    "# new for data viz\n",
    "import seaborn as sns\n",
    "\n",
    "# to explore point patterns\n",
    "from pointpats import centrography\n",
    "from matplotlib.patches import Ellipse\n",
    "import numpy"
   ]
  },
  {
   "cell_type": "markdown",
   "id": "south-silence",
   "metadata": {},
   "source": [
    "## NextGen and the existing bus network\n",
    "First, we wanted to compare the changes in NextGen and the existing bus network. We did this by plotting the two networks on top of each other. "
   ]
  },
  {
   "cell_type": "code",
   "execution_count": null,
   "id": "foreign-dryer",
   "metadata": {},
   "outputs": [],
   "source": [
    "NextGen = gpd.read_file('data/Next_Gen/200820_NextGen_Transit_First_DX15.shp')\n",
    "ExRoute = gpd.read_file('data/Existing_Bus_System/Existing_Bus_System.shp')"
   ]
  },
  {
   "cell_type": "markdown",
   "id": "local-unknown",
   "metadata": {},
   "source": [
    "NextGen needed to be reprojected in order for them to be mapped one on top of the other. "
   ]
  },
  {
   "cell_type": "code",
   "execution_count": null,
   "id": "existing-louis",
   "metadata": {},
   "outputs": [],
   "source": [
    "NextGen.crs"
   ]
  },
  {
   "cell_type": "code",
   "execution_count": null,
   "id": "aerial-channel",
   "metadata": {},
   "outputs": [],
   "source": [
    "NextGen_web = NextGen.to_crs('epsg:3857')"
   ]
  },
  {
   "cell_type": "code",
   "execution_count": null,
   "id": "instant-country",
   "metadata": {},
   "outputs": [],
   "source": [
    "fig,ax = plt.subplots(figsize=(15,15))\n",
    "ax.axis('off')\n",
    "ExRoute.plot(ax=ax)\n",
    "NextGen_web.plot(ax=ax,color='g')\n",
    "ctx.add_basemap(ax)"
   ]
  },
  {
   "cell_type": "code",
   "execution_count": null,
   "id": "fiscal-bulgarian",
   "metadata": {},
   "outputs": [],
   "source": [
    "fig,ax = plt.subplots(figsize=(15,15))\n",
    "ax.axis('off')\n",
    "\n",
    "NextGen_web.plot(ax=ax,color='g')\n",
    "ExRoute.plot(ax=ax)\n",
    "ctx.add_basemap(ax)"
   ]
  },
  {
   "cell_type": "markdown",
   "id": "dynamic-vienna",
   "metadata": {},
   "source": [
    "Above is a comparison of the NextGen bus network and the existing bus network. The maps show that though the NextGen plan is a thorough one, it will not dramatically change the physical bus network. The biggest changes in the plan are condensing several bus lines and increasing service. And we don't have access to frequency data. "
   ]
  },
  {
   "cell_type": "markdown",
   "id": "portable-syndication",
   "metadata": {},
   "source": [
    "Below are some detailed shots of areas of LA that we eventually compared to our map of bus access. "
   ]
  },
  {
   "cell_type": "code",
   "execution_count": null,
   "id": "received-sheriff",
   "metadata": {},
   "outputs": [],
   "source": [
    "fig,ax = plt.subplots(figsize=(15,15))\n",
    "ax.axis('off')\n",
    "ExRoute.plot(ax=ax)\n",
    "NextGen_web.plot(ax=ax,color='g')\n",
    "\n",
    "\n",
    "ax.set_xlim(-1.319e7, -1.315e7)\n",
    "ax.set_ylim(4.017e6, 4.04e6)\n",
    "ctx.add_basemap(ax)\n",
    "ax.set_title(\"Downtown and South LA\")"
   ]
  },
  {
   "cell_type": "code",
   "execution_count": null,
   "id": "accompanied-orlando",
   "metadata": {},
   "outputs": [],
   "source": [
    "fig,ax = plt.subplots(figsize=(15,15))\n",
    "ax.axis('off')\n",
    "ExRoute.plot(ax=ax)\n",
    "NextGen_web.plot(ax=ax,color='g')\n",
    "\n",
    "ax.set_xlim(-1.322e7, -1.313e7)\n",
    "ax.set_ylim(4.027e6, 4.08e6)\n",
    "ctx.add_basemap(ax)\n",
    "ax.set_title(\"San Fernando Valley and North of Downtown\")"
   ]
  },
  {
   "cell_type": "markdown",
   "id": "realistic-turkey",
   "metadata": {},
   "source": [
    "## Measuring Bus Access"
   ]
  },
  {
   "cell_type": "markdown",
   "id": "cordless-shame",
   "metadata": {},
   "source": [
    "### Bus Stops and Bus Stop Distribution in LA\n",
    "\n",
    "In our analysis of bus access in LA, we began by looking at the concentration of bus stops in the County. The map below uses a dataset of LA Metro bus stops for each bus line. If a bus stop serves multiple buses, it is weighted as such. This is a rough metric for access to the bus across the County. This map shows the median and mean center of bus stops and shows their distribution across a vertical and horizontal access. Using this map, we can see that bus stops are more heavily concentrated in the center of the City. The dip in the vertical distribution shows the lack of bus access in the hills between the valley and the center of the city. We sharpened our bus access metric by taking into account bus frequency in the next step."
   ]
  },
  {
   "cell_type": "code",
   "execution_count": null,
   "id": "static-blast",
   "metadata": {},
   "outputs": [],
   "source": [
    "lss = gpd.read_file('data/Bus_Stops/JUN20_Lines_Serving_Stops.shp')"
   ]
  },
  {
   "cell_type": "code",
   "execution_count": null,
   "id": "disabled-pocket",
   "metadata": {},
   "outputs": [],
   "source": [
    "lss_web_mercator = lss.to_crs(epsg=3857)"
   ]
  },
  {
   "cell_type": "code",
   "execution_count": null,
   "id": "determined-appearance",
   "metadata": {},
   "outputs": [],
   "source": [
    "# compute the mean and median centers\n",
    "mean_center = centrography.mean_center(lss[['LONG','LAT']])\n",
    "med_center = centrography.euclidean_median(lss[['LONG','LAT']])"
   ]
  },
  {
   "cell_type": "code",
   "execution_count": null,
   "id": "regulation-kitchen",
   "metadata": {},
   "outputs": [],
   "source": [
    "# Generate scatter plot\n",
    "g = sns.jointplot(\n",
    "    x='LONG', y='LAT', data=lss, s=3, \n",
    ")\n",
    "g.fig.set_figwidth(15)\n",
    "g.fig.set_figheight(10)\n",
    "\n",
    "# Add mean point and marginal lines\n",
    "g.ax_joint.scatter(\n",
    "    *mean_center, color='red', marker='x', s=50, label='Mean Center'\n",
    ")\n",
    "g.ax_marg_x.axvline(mean_center[0], color='red')\n",
    "g.ax_marg_y.axhline(mean_center[1], color='red')\n",
    "\n",
    "# Add median point and marginal lines\n",
    "g.ax_joint.scatter(\n",
    "    *med_center, color='limegreen', marker='o', s=50, label='Median Center'\n",
    ")\n",
    "g.ax_marg_x.axvline(med_center[0], color='limegreen')\n",
    "g.ax_marg_y.axhline(med_center[1], color='limegreen')\n",
    "\n",
    "# Legend\n",
    "g.ax_joint.legend()\n",
    "\n",
    "# Add basemap\n",
    "ctx.add_basemap(\n",
    "    g.ax_joint, \n",
    "    crs='epsg:4326',\n",
    "    source=ctx.providers.CartoDB.Positron\n",
    ")\n",
    "\n",
    "# Clean axes\n",
    "g.ax_joint.set_axis_off()\n",
    "\n",
    "# Display\n",
    "plt.show()"
   ]
  },
  {
   "cell_type": "markdown",
   "id": "polished-subcommittee",
   "metadata": {},
   "source": [
    "### Creating the Bus Access Metric"
   ]
  },
  {
   "cell_type": "markdown",
   "id": "renewable-optics",
   "metadata": {},
   "source": [
    "One of the biggest challenges we ran into was developing a metric for bus access. We had quite a few limitations when using the data from Metro including a lack of information on the datasets and a lack of current data. The metric we settled on for bus access used bus stop information and headway data. We started with a dataset from Metro called Lines Serving Stops from June 2020. This dataset includes the geographic location of every bus stop in the existing LA Metro network data organized by bus line. This means that if a bus stop is served by four bus lines it will appear four times in the dataset. (Note that the description on the website for the Lines Serving Stops and Stops Serving Lines datasets are reversed). Just mapping this dataset gives a fairly good representation of bus access (more bus stops mean more bus lines and therefore greater access to the City).\n",
    "\n",
    "Next, we appended the bus frequency data from the headways dataset (note that this data is from 2014 and discrepancies between 2014 and the above 2020 data resulted in some dropped bus stops). We totaled the number of buses that run on each line in a week during peak hours by summing the “total trips” by bus line and multiplying the weekday trips by five. Next, we assigned each bus stop with the total weekly trips that pass through it. Each of these weekly trips can be seen as an “opportunity” to take the bus. In a sense, we are measuring bus access by the number of buses that one has the chance to take during a week. This does not take into account where one might be able to take the bus, accessibility of various services or employment via the bus, bus wait time, bus reliability, or walking distance to the bus.\n",
    "\n",
    "Below is that process:"
   ]
  },
  {
   "cell_type": "code",
   "execution_count": null,
   "id": "canadian-nothing",
   "metadata": {},
   "outputs": [],
   "source": [
    "#import headways data (downloaded from metro as an excel file, resaved a .csv)\n",
    "hw = gpd.read_file('data/JUN14HeadwayLineDirDaytypeTimeperiod.csv')"
   ]
  },
  {
   "cell_type": "code",
   "execution_count": null,
   "id": "unlikely-douglas",
   "metadata": {},
   "outputs": [],
   "source": [
    "# here's what the dataset looks like\n",
    "hw.head(30)"
   ]
  },
  {
   "cell_type": "markdown",
   "id": "amended-consensus",
   "metadata": {},
   "source": [
    "The challenge here is to sum total trips by line while taking into account the fact that these trips are divided into 3 different \"Day Types.\" The day types are: 1 (weekdays), 2 (saturdays), 3 (sundays). We want the total trips for saturdays and sundays but also add weekdays but weight them by a factor of 5 in order to get the week total. "
   ]
  },
  {
   "cell_type": "code",
   "execution_count": null,
   "id": "following-azerbaijan",
   "metadata": {},
   "outputs": [],
   "source": [
    "# Turn the trips data into an integer so it can be added\n",
    "hw['Trips'] = hw['Trips'].astype(int)"
   ]
  },
  {
   "cell_type": "markdown",
   "id": "generous-semester",
   "metadata": {},
   "source": [
    "First we can use `groupby` to get trip totals for the day types (which adds up time of day totals and directional totals). "
   ]
  },
  {
   "cell_type": "code",
   "execution_count": null,
   "id": "pacific-entrepreneur",
   "metadata": {},
   "outputs": [],
   "source": [
    "hwtt = hw.groupby([\"Line\",\"DayType\"]).Trips.sum().reset_index()\n",
    "hwtt"
   ]
  },
  {
   "cell_type": "code",
   "execution_count": null,
   "id": "excess-inclusion",
   "metadata": {},
   "outputs": [],
   "source": [
    "# This will create a list of every bus line which we will use later\n",
    "buslines = hwtt.Line.unique().tolist()"
   ]
  },
  {
   "cell_type": "code",
   "execution_count": null,
   "id": "major-bathroom",
   "metadata": {},
   "outputs": [],
   "source": [
    "# creating a dataframe based on the list of bus lines\n",
    "bt = pd.DataFrame(data=buslines)\n",
    "bt"
   ]
  },
  {
   "cell_type": "code",
   "execution_count": null,
   "id": "operating-impossible",
   "metadata": {},
   "outputs": [],
   "source": [
    "# renaming the single column\n",
    "bt.columns = ['Line']"
   ]
  },
  {
   "cell_type": "markdown",
   "id": "operating-realtor",
   "metadata": {},
   "source": [
    "Using our hwtt list with trip information, we're going to create a new column on the `bt` dataframe with total trips. Weekdays are multiplied by 5 to create a weighted week total."
   ]
  },
  {
   "cell_type": "code",
   "execution_count": null,
   "id": "inclusive-comfort",
   "metadata": {},
   "outputs": [],
   "source": [
    "for x in buslines:\n",
    "    a = hwtt.loc[(hwtt['Line'] == x) & ((hwtt['DayType'] == '2') | (hwtt['DayType'] == '3')),'Trips'].sum()\n",
    "    b = hwtt.loc[((hwtt['Line'] == x) & (hwtt['DayType'] == '1')),'Trips'].sum()\n",
    "    bt.loc[(bt['Line'] == x),'TotalTrips'] = a + b*5\n",
    "bt"
   ]
  },
  {
   "cell_type": "markdown",
   "id": "elegant-briefing",
   "metadata": {},
   "source": [
    "Next, in order to add the week total for each bus stop according to its line, we will create a dictionary out of the `bt` dataframe in order to reference it. Note that I'm sure there's an easier way to do all this, but this ended up working out!"
   ]
  },
  {
   "cell_type": "code",
   "execution_count": null,
   "id": "robust-trunk",
   "metadata": {},
   "outputs": [],
   "source": [
    "btd = dict(zip(bt.Line, bt.TotalTrips))\n",
    "btd"
   ]
  },
  {
   "cell_type": "code",
   "execution_count": null,
   "id": "extra-problem",
   "metadata": {},
   "outputs": [],
   "source": [
    "# The lines in the bus line dictionary are strings, so we'll have to make the bus lines in lss also strings\n",
    "lss['LINE'] = lss['LINE'].astype(str)"
   ]
  },
  {
   "cell_type": "code",
   "execution_count": null,
   "id": "greek-trading",
   "metadata": {},
   "outputs": [],
   "source": [
    "# this creates a new column with total weekly trips using the stop's bus line and the dictionary for reference\n",
    "lss['WeeklyTrips'] = lss['LINE'].map(btd)"
   ]
  },
  {
   "cell_type": "code",
   "execution_count": null,
   "id": "cleared-partition",
   "metadata": {},
   "outputs": [],
   "source": [
    "# now we have a bus access metric that we can map in the next step\n",
    "lss.head()"
   ]
  },
  {
   "cell_type": "markdown",
   "id": "north-stuart",
   "metadata": {},
   "source": [
    "### Mapping Bus Access and Income\n",
    "\n",
    "The map below superimposes our Bus Access metric over a map of income for the County of LA. Lower income areas are blue and higher income areas are white. Higher levels of bus service are yellow and lower levels of bus service are purple. The areas of interest in this map are those where incomes are low and bus access is also low. Low income populations tend to be much more reliant on the bus and are less likely to own a car. We were curious to compare these areas of interest with the new NextGen bus plan."
   ]
  },
  {
   "cell_type": "code",
   "execution_count": null,
   "id": "committed-shoot",
   "metadata": {},
   "outputs": [],
   "source": [
    "inc = gpd.read_file('data/acs2019_5yr_B19013_14000US06037432102.geojson')"
   ]
  },
  {
   "cell_type": "code",
   "execution_count": null,
   "id": "applied-crystal",
   "metadata": {},
   "outputs": [],
   "source": [
    "inc = inc.drop([0])"
   ]
  },
  {
   "cell_type": "code",
   "execution_count": null,
   "id": "royal-three",
   "metadata": {},
   "outputs": [],
   "source": [
    "inc.columns = ['geoid',\n",
    "'name',\n",
    "'Income',\n",
    "'Error',\n",
    "'geometry']"
   ]
  },
  {
   "cell_type": "code",
   "execution_count": null,
   "id": "miniature-baltimore",
   "metadata": {},
   "outputs": [],
   "source": [
    "map = KeplerGl(height=600,width=800)\n",
    "map"
   ]
  },
  {
   "cell_type": "code",
   "execution_count": null,
   "id": "rocky-disaster",
   "metadata": {},
   "outputs": [],
   "source": [
    "map.add_data(data=lss,name='Bus Access')"
   ]
  },
  {
   "cell_type": "code",
   "execution_count": null,
   "id": "peripheral-meaning",
   "metadata": {},
   "outputs": [],
   "source": [
    "map.add_data(data=inc,name='Income_County')"
   ]
  },
  {
   "cell_type": "markdown",
   "id": "successful-election",
   "metadata": {},
   "source": [
    "Within Kepler, we added two layers to the map. The first layer was our bus access metric. We used hexabins with a radius of 0.1 and a height scale based on \"WeeklyTrips.\" We used the fourth color option and made use to base Color on \"WeeklyTrips\" as well. \n",
    "\n",
    "The second layer we used Income_County as the datasource and used Polygons to visualize the census income data. We used \"Income\" for the color visualization and picked reversed white to teal as the colors. We played around with the polygon opacity so that the information was clear but the labels from the map were still visible. We then saved the map and uploaded it to github (From Miranda: I did this in a weird way were I accidentally created a new repository, so I'm not sure if I'm able to share the file very easily but it can be viewed at the website below or on our story map). Note that the file saved with the name below to this jupyterhubs folder is not the final draft and is just a test from running this notebook. \n",
    "\n",
    "https://mmeadnewton.github.io/busstopsincome.html"
   ]
  },
  {
   "cell_type": "code",
   "execution_count": null,
   "id": "naughty-alliance",
   "metadata": {},
   "outputs": [],
   "source": [
    "# map.save_to_html(file_name='busstopsincome.html',read_only=True)\n",
    "\n",
    "## ^the code above is turned into a note so that we don't save over the current file. Normally, it would be used\n",
    "## to save our map file. "
   ]
  },
  {
   "cell_type": "markdown",
   "id": "resistant-wheat",
   "metadata": {},
   "source": [
    "## Conclusion\n",
    "One area on this map of note is the Valley/North Hollywood. Though the Valley is served by the Orange and Red Lines, there are few options for crossing into Central LA and this commute can become very congested. We were interested in the fact that North Hollywood is characterized by lower incomes and low bus access. On the map on the right, you can see that some of the existing network will be removed in this area.\n",
    "\n",
    "Parts of South and East LA are also characterized by lower incomes. These areas have higher frequencies of bus service, however, most of the transit access in the area runs into Downtown LA. There is less neighborhood travel coverage in these areas. Though these bus lines run regularly, they are more spaced apart south of the 10 freeway. This area will also see some reduction in bus line coverage.\n",
    "\n",
    "Without being able to analyze frequency changes, it's clear that there are current areas characterized by low incomes and low level of bus service. From our research and findings, we know that low income populations tend to be most dependent on the bus and have less car access. These areas tend to be further away from the central city and likely commute into Central LA. Increasing service in these areas would be an easy way to reduce overall vehicle miles traveled (VMT). This is probably especially true in the Valley where there are few routes into the City. More bus access could greatly reduce peak rush hour congestion.\n",
    "\n",
    "In South LA, we noticed that most of the current service appears to serve those who want to travel to Downtown and Central LA. Most of the high level frequency bus routes travel North/South and those routes are closer together leading to greater coverage. This is useful for job access but may leave gaps for those who wish to travel within their neighborhood or run errands. This can further isolate those living in poverty from community and basic resources. There's also no easy route for those in South LA to travel to West LA or Century City, another job center.\n",
    "\n",
    "In East LA, there are areas characterized by lower incomes and a very sparse bus network. Similar, to South LA, travel is mostly aimed at commuters into downtown and there's very little opportunity for intra-community travel.\n",
    "\n",
    "See our storymaps for more information:\n",
    "https://storymaps.arcgis.com/stories/c97e33fc08ca44c59df8736261558f74"
   ]
  },
  {
   "cell_type": "code",
   "execution_count": null,
   "id": "separate-bonus",
   "metadata": {},
   "outputs": [],
   "source": []
  }
 ],
 "metadata": {
  "kernelspec": {
   "display_name": "Python 3",
   "language": "python",
   "name": "python3"
  },
  "language_info": {
   "codemirror_mode": {
    "name": "ipython",
    "version": 3
   },
   "file_extension": ".py",
   "mimetype": "text/x-python",
   "name": "python",
   "nbconvert_exporter": "python",
   "pygments_lexer": "ipython3",
   "version": "3.8.5"
  },
  "toc": {
   "base_numbering": 1,
   "nav_menu": {},
   "number_sections": true,
   "sideBar": true,
   "skip_h1_title": false,
   "title_cell": "Table of Contents",
   "title_sidebar": "Contents",
   "toc_cell": false,
   "toc_position": {},
   "toc_section_display": true,
   "toc_window_display": false
  }
 },
 "nbformat": 4,
 "nbformat_minor": 5
}
